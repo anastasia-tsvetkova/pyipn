{
 "cells": [
  {
   "cell_type": "code",
   "execution_count": 1,
   "metadata": {},
   "outputs": [],
   "source": [
    "import pdb"
   ]
  },
  {
   "cell_type": "code",
   "execution_count": 2,
   "metadata": {
    "ExecuteTime": {
     "end_time": "2019-04-30T08:49:25.926074Z",
     "start_time": "2019-04-30T08:49:24.791701Z"
    }
   },
   "outputs": [],
   "source": [
    "\n",
    "import matplotlib.pyplot as plt\n",
    "%matplotlib notebook\n",
    "\n",
    "\n",
    "\n",
    "from pyipn import copy_template, Universe"
   ]
  },
  {
   "cell_type": "markdown",
   "metadata": {},
   "source": [
    "# Start up\n",
    "\n",
    "We first want to copy the template configuration to our local director so that we can edit it.\n"
   ]
  },
  {
   "cell_type": "code",
   "execution_count": 3,
   "metadata": {
    "ExecuteTime": {
     "end_time": "2019-04-30T08:47:48.602141Z",
     "start_time": "2019-04-30T08:47:48.476Z"
    }
   },
   "outputs": [],
   "source": [
    "copy_template()"
   ]
  },
  {
   "cell_type": "markdown",
   "metadata": {},
   "source": [
    "We can see how the config looks."
   ]
  },
  {
   "cell_type": "markdown",
   "metadata": {},
   "source": [
    "change template_config.yaml here:\n",
    "/home/msinghart/.vevn/pyipn/lib/python3.5/site-packages/pyipn-0.1.0-py3.5.egg/pyipn/data/"
   ]
  },
  {
   "cell_type": "code",
   "execution_count": 4,
   "metadata": {
    "ExecuteTime": {
     "end_time": "2019-04-30T08:47:50.603972Z",
     "start_time": "2019-04-30T08:47:50.467385Z"
    }
   },
   "outputs": [
    {
     "name": "stdout",
     "output_type": "stream",
     "text": [
      "## Specify the GRB parameters\r\n",
      "\r\n",
      "grb:\r\n",
      "\r\n",
      "  # Location and distance (degrees and Mpc)\r\n",
      "  ra: 10.\r\n",
      "  dec: 30.\r\n",
      "  distance: 100.\r\n",
      "\r\n",
      "  # lightcurve\r\n",
      "  K: 100. # intensity\r\n",
      "  t_rise: 1. # rise time\r\n",
      "  t_decay: 2. # decay time\r\n",
      "\r\n",
      "\r\n",
      "# specify the detectors\r\n",
      "# each entry is treated as the name of the detector\r\n",
      "detectors:\r\n",
      "\r\n",
      "  # name the detector\r\n",
      "  det1:\r\n",
      "\r\n",
      "    # it's location in GCRS\r\n",
      "    ra: 50.\r\n",
      "    dec: 80.\r\n",
      "    altitude: 500. # km\r\n",
      "    time: '2010-01-01T00:00:00' # time of detection\r\n",
      "\r\n",
      "    # Where the detector point in the sky\r\n",
      "    pointing:\r\n",
      "      ra: 10.\r\n",
      "      dec: 30.\r\n",
      "\r\n",
      "    # the total effective area\r\n",
      "    effective_area: 1.\r\n",
      "\r\n",
      "\r\n",
      "  # add more detectors!\r\n",
      "  \r\n",
      "  det2:\r\n",
      "\r\n",
      "    ra: 25.\r\n",
      "    dec: -20.\r\n",
      "    altitude: 1500.\r\n",
      "    time: '2010-01-01T00:00:00'\r\n",
      "    \r\n",
      "    pointing:\r\n",
      "      ra: 10.\r\n",
      "      dec: 30.\r\n",
      "\r\n",
      "    effective_area: 1.\r\n",
      "\r\n",
      "    \r\n",
      "  \r\n",
      "    \r\n"
     ]
    }
   ],
   "source": [
    "!cat template_config.yaml"
   ]
  },
  {
   "cell_type": "markdown",
   "metadata": {
    "ExecuteTime": {
     "end_time": "2019-04-30T08:46:07.829258Z",
     "start_time": "2019-04-30T08:46:07.825113Z"
    }
   },
   "source": [
    "# Make a Universe and blow up a GRB\n",
    "\n",
    "We can load the configuration from the yaml file."
   ]
  },
  {
   "cell_type": "code",
   "execution_count": 5,
   "metadata": {
    "ExecuteTime": {
     "end_time": "2019-04-30T08:49:29.243423Z",
     "start_time": "2019-04-30T08:49:29.227662Z"
    }
   },
   "outputs": [],
   "source": [
    "uni = Universe.from_yaml('template_config.yaml')"
   ]
  },
  {
   "cell_type": "markdown",
   "metadata": {},
   "source": [
    "Set how long before and after the trigger time that you would like the light curve to last and create the data."
   ]
  },
  {
   "cell_type": "code",
   "execution_count": 6,
   "metadata": {
    "ExecuteTime": {
     "end_time": "2019-04-30T08:49:31.535739Z",
     "start_time": "2019-04-30T08:49:30.189522Z"
    },
    "scrolled": true
   },
   "outputs": [],
   "source": [
    "uni.explode_grb(tstart=-50,tstop=50)"
   ]
  },
  {
   "cell_type": "code",
   "execution_count": 7,
   "metadata": {
    "ExecuteTime": {
     "end_time": "2019-04-30T08:50:32.217287Z",
     "start_time": "2019-04-30T08:50:32.156381Z"
    },
    "scrolled": false
   },
   "outputs": [
    {
     "data": {
      "image/png": "[encoded data removed]",
      "text/plain": [
       "<Figure size 432x288 with 1 Axes>"
      ]
     },
     "metadata": {
      "needs_background": "light"
     },
     "output_type": "display_data"
    },
    {
     "data": {
      "image/png": "[encoded data removed]",
      "text/plain": [
       "<Figure size 432x288 with 1 Axes>"
      ]
     },
     "metadata": {
      "needs_background": "light"
     },
     "output_type": "display_data"
    }
   ],
   "source": [
    "for det, lc in uni.light_curves.items():\n",
    "    \n",
    "    lc.display(-10,50,1.)\n",
    "    "
   ]
  },
  {
   "cell_type": "markdown",
   "metadata": {},
   "source": [
    "We can now view the light curves."
   ]
  },
  {
   "cell_type": "code",
   "execution_count": 8,
   "metadata": {},
   "outputs": [
    {
     "name": "stdout",
     "output_type": "stream",
     "text": [
      "[0.         0.00223062]\n"
     ]
    }
   ],
   "source": [
    "print(uni._time_differences)"
   ]
  },
  {
   "cell_type": "code",
   "execution_count": 9,
   "metadata": {},
   "outputs": [
    {
     "ename": "AttributeError",
     "evalue": "'Universe' object has no attribute 'calculate_annulus'",
     "output_type": "error",
     "traceback": [
      "\u001b[0;31m---------------------------------------------------------------------------\u001b[0m",
      "\u001b[0;31mAttributeError\u001b[0m                            Traceback (most recent call last)",
      "\u001b[0;32m<ipython-input-9-d44869a5f5ad>\u001b[0m in \u001b[0;36m<module>\u001b[0;34m\u001b[0m\n\u001b[0;32m----> 1\u001b[0;31m \u001b[0muni\u001b[0m\u001b[0;34m.\u001b[0m\u001b[0mcalculate_annulus\u001b[0m\u001b[0;34m(\u001b[0m\u001b[0;34m\"det1\"\u001b[0m\u001b[0;34m,\u001b[0m \u001b[0;34m\"det2\"\u001b[0m\u001b[0;34m)\u001b[0m\u001b[0;34m\u001b[0m\u001b[0m\n\u001b[0m",
      "\u001b[0;31mAttributeError\u001b[0m: 'Universe' object has no attribute 'calculate_annulus'"
     ]
    }
   ],
   "source": [
    "uni.calculate_annulus(\"det1\", \"det2\")"
   ]
  },
  {
   "cell_type": "code",
   "execution_count": null,
   "metadata": {},
   "outputs": [],
   "source": []
  }
 ],
 "metadata": {
  "kernelspec": {
   "display_name": "Python 3",
   "language": "python",
   "name": "python3"
  },
  "language_info": {
   "codemirror_mode": {
    "name": "ipython",
    "version": 3
   },
   "file_extension": ".py",
   "mimetype": "text/x-python",
   "name": "python",
   "nbconvert_exporter": "python",
   "pygments_lexer": "ipython3",
   "version": "3.5.2"
  },
  "toc": {
   "base_numbering": 1,
   "nav_menu": {},
   "number_sections": true,
   "sideBar": true,
   "skip_h1_title": false,
   "title_cell": "Table of Contents",
   "title_sidebar": "Contents",
   "toc_cell": false,
   "toc_position": {},
   "toc_section_display": true,
   "toc_window_display": false
  },
  "varInspector": {
   "cols": {
    "lenName": 16,
    "lenType": 16,
    "lenVar": 40
   },
   "kernels_config": {
    "python": {
     "delete_cmd_postfix": "",
     "delete_cmd_prefix": "del ",
     "library": "var_list.py",
     "varRefreshCmd": "print(var_dic_list())"
    },
    "r": {
     "delete_cmd_postfix": ") ",
     "delete_cmd_prefix": "rm(",
     "library": "var_list.r",
     "varRefreshCmd": "cat(var_dic_list()) "
    }
   },
   "types_to_exclude": [
    "module",
    "function",
    "builtin_function_or_method",
    "instance",
    "_Feature"
   ],
   "window_display": false
  }
 },
 "nbformat": 4,
 "nbformat_minor": 2
}
